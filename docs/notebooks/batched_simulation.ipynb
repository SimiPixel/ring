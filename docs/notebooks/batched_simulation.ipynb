{
 "cells": [
  {
   "cell_type": "markdown",
   "metadata": {},
   "source": [
    "This example is available as a jupyter notebook [here](https://github.com/SimiPixel/x_xy_v2/blob/main/docs/notebooks/batched_simulation.ipynb)."
   ]
  },
  {
   "cell_type": "markdown",
   "metadata": {},
   "source": [
    "## Batched Dynamical Simulation"
   ]
  },
  {
   "cell_type": "markdown",
   "metadata": {},
   "source": [
    "`System` object is a registered Jax-PyTree. This means it's a nested array.\n",
    "\n",
    "This enables us to stack multiple systems (or states) to enable vectorized operations."
   ]
  },
  {
   "cell_type": "markdown",
   "metadata": {},
   "source": [
    "### Batched System\n",
    "\n",
    "I.e. simulating two different system with the same initial state."
   ]
  },
  {
   "cell_type": "code",
   "execution_count": 8,
   "metadata": {},
   "outputs": [],
   "source": [
    "import x_xy\n",
    "\n",
    "import jax\n",
    "import jax.numpy as jnp\n",
    "import numpy as np\n",
    "import matplotlib.pyplot as plt\n",
    "\n",
    "import mediapy as media\n",
    "import vispy\n",
    "\n",
    "# other backends are fine too, just not `jupyter_rfb`. You can install `pyqt6` using `pip install pyqt6`\n",
    "vispy.use(\"pyqt6\")\n",
    "\n",
    "xml_str = \"\"\"\n",
    "<x_xy model=\"double_pendulum\">\n",
    "    <options gravity=\"0 0 9.81\" dt=\"0.01\"/>\n",
    "    <worldbody>\n",
    "        <body name=\"upper\" euler=\"0 90 0\" joint=\"ry\" damping=\"2\">\n",
    "            <geom type=\"box\" mass=\"10\" pos=\"0.5 0 0\" dim=\"1 0.25 0.2\"/>\n",
    "            <body name=\"lower\" pos=\"1 0 0\" joint=\"ry\" damping=\"2\">\n",
    "                <geom type=\"box\" mass=\"10\" pos=\"0.5 0 0\" dim=\"1 0.25 0.2\"/>\n",
    "            </body>\n",
    "        </body>\n",
    "    </worldbody>\n",
    "</x_xy>\n",
    "\"\"\"\n",
    "\n",
    "sys = x_xy.load_sys_from_str(xml_str)\n",
    "state = x_xy.State.create(sys)"
   ]
  },
  {
   "cell_type": "code",
   "execution_count": 9,
   "metadata": {},
   "outputs": [],
   "source": [
    "# second system with gravity disabled\n",
    "sys_nograv = sys.replace(gravity = sys.gravity * 0.0)\n",
    "sys_batched = sys.batch(sys_nograv)\n",
    "\n",
    "next_state_batched = jax.vmap(x_xy.step, in_axes=(0, None))(sys_batched, state)"
   ]
  },
  {
   "cell_type": "code",
   "execution_count": 11,
   "metadata": {},
   "outputs": [
    {
     "data": {
      "text/plain": [
       "Array([[-1.7982468e-10,  2.3305433e-10],\n",
       "       [ 0.0000000e+00,  0.0000000e+00]], dtype=float32)"
      ]
     },
     "execution_count": 11,
     "metadata": {},
     "output_type": "execute_result"
    }
   ],
   "source": [
    "# note how the state of the system without gravity has not changed at all\n",
    "next_state_batched.q"
   ]
  },
  {
   "cell_type": "markdown",
   "metadata": {},
   "source": [
    "### Batched State"
   ]
  },
  {
   "cell_type": "code",
   "execution_count": 5,
   "metadata": {},
   "outputs": [],
   "source": [
    "second_state = x_xy.State.create(sys, qd=jnp.ones((2,)))\n",
    "state_batched = state.batch(second_state)\n",
    "next_state_batched = jax.vmap(x_xy.step, in_axes=(None, 0))(sys, state_batched)"
   ]
  },
  {
   "cell_type": "code",
   "execution_count": 7,
   "metadata": {},
   "outputs": [
    {
     "data": {
      "text/plain": [
       "Array([[-1.7982468e-10,  2.3305433e-10],\n",
       "       [ 1.0048340e-02,  9.8215193e-03]], dtype=float32)"
      ]
     },
     "execution_count": 7,
     "metadata": {},
     "output_type": "execute_result"
    }
   ],
   "source": [
    "next_state_batched.q"
   ]
  },
  {
   "cell_type": "markdown",
   "metadata": {},
   "source": [
    "## Batched Kinematic Simulation"
   ]
  },
  {
   "cell_type": "markdown",
   "metadata": {},
   "source": [
    "Batched kinematic simulation is done using either `x_xy.batch_generator` or `x_xy.offline_generator`."
   ]
  },
  {
   "cell_type": "code",
   "execution_count": 15,
   "metadata": {},
   "outputs": [],
   "source": [
    "gen = x_xy.build_generator(sys, x_xy.RCMG_Config(T=10.0, t_max=1.5))\n",
    "batchsize = 8\n",
    "gen_batched = x_xy.batch_generator(gen, batchsizes=batchsize)\n",
    "seed = 1\n",
    "qs, xs = gen_batched(jax.random.PRNGKey(seed))"
   ]
  },
  {
   "cell_type": "code",
   "execution_count": 16,
   "metadata": {},
   "outputs": [
    {
     "data": {
      "text/plain": [
       "(8, 1000, 2)"
      ]
     },
     "execution_count": 16,
     "metadata": {},
     "output_type": "execute_result"
    }
   ],
   "source": [
    "qs.shape"
   ]
  },
  {
   "cell_type": "code",
   "execution_count": null,
   "metadata": {},
   "outputs": [],
   "source": []
  }
 ],
 "metadata": {
  "kernelspec": {
   "display_name": "x_xy",
   "language": "python",
   "name": "python3"
  },
  "language_info": {
   "codemirror_mode": {
    "name": "ipython",
    "version": 3
   },
   "file_extension": ".py",
   "mimetype": "text/x-python",
   "name": "python",
   "nbconvert_exporter": "python",
   "pygments_lexer": "ipython3",
   "version": "3.10.10"
  },
  "orig_nbformat": 4
 },
 "nbformat": 4,
 "nbformat_minor": 2
}
