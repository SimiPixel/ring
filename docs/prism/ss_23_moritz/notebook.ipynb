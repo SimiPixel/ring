{
 "cells": [
  {
   "cell_type": "markdown",
   "id": "fc0edcb4-5446-4b26-a614-bd14c9e8a957",
   "metadata": {},
   "source": [
    "# Training the RNNo with a custom loss function\n",
    "\n",
    "This notebook showcases how train an RNNo network with a custom loss function rather than the default mean-reduces angle error. This is showcased by scaling the error by a softmax over the time axis, which puts more weight on the time intervals with a higher deviation compared to ones with lower deviation."
   ]
  },
  {
   "cell_type": "code",
   "execution_count": null,
   "id": "ebd6248e-354f-4e14-8d16-cf66822adf39",
   "metadata": {},
   "outputs": [],
   "source": [
    "import jax\n",
    "import jax.numpy as jnp\n",
    "import tree_utils\n",
    "from jax.nn import softmax\n",
    "import matplotlib.pyplot as plt\n",
    "import mediapy\n",
    "\n",
    "import x_xy\n",
    "from x_xy.subpkgs import ml, sim2real, sys_composer"
   ]
  },
  {
   "cell_type": "markdown",
   "id": "9fbaa277",
   "metadata": {},
   "source": [
    "Set the batch size and number of training episodes according to the available hardware."
   ]
  },
  {
   "cell_type": "code",
   "execution_count": null,
   "id": "6874b3a7-1f40-4489-a02f-85bf16b52e94",
   "metadata": {},
   "outputs": [],
   "source": [
    "BATCHSIZE = 32\n",
    "NUM_TRAINING_EPISODES = 1500"
   ]
  },
  {
   "cell_type": "markdown",
   "id": "2915ace8-7840-41c4-b00c-e7fe2e366378",
   "metadata": {},
   "source": [
    "## Defining the systems\n",
    "\n",
    "We use two separate systems, both parsed from XML strings: one for training (`sys`) and one for inference (`dustin_sys`)."
   ]
  },
  {
   "cell_type": "code",
   "execution_count": null,
   "id": "12b40842-fa53-495e-b461-930597ab71f9",
   "metadata": {},
   "outputs": [],
   "source": [
    "sys_str = r\"\"\"\n",
    "<x_xy model=\"three_segment_kinematic_chain\">\n",
    "    <options gravity=\"0 0 9.81\" dt=\"0.01\"/>\n",
    "    <defaults>\n",
    "        <geom color=\"orange\"/>\n",
    "    </defaults>\n",
    "    <worldbody>\n",
    "        <body name=\"seg2\" joint=\"free\" pos=\"0 0 2\">\n",
    "            <geom type=\"box\" mass=\"0.1\" pos=\"0.5 0 0\" dim=\"1 0.25 0.2\"/>\n",
    "            <body name=\"seg1\" joint=\"ry\">\n",
    "                <geom type=\"box\" mass=\"0.1\" pos=\"-0.5 0 0\" dim=\"1 0.25 0.2\"/>\n",
    "                <body name=\"imu1\" joint=\"frozen\" pos=\"-0.5 0 0.125\">\n",
    "                    <geom type=\"box\" mass=\"0.05\" dim=\"0.2 0.2 0.05\" color=\"red\"/>\n",
    "                </body>\n",
    "            </body>\n",
    "            <body name=\"seg3\" joint=\"rz\" pos=\"1 0 0\">\n",
    "                <geom type=\"box\" mass=\"0.1\" pos=\"0.5 0 0\" dim=\"1 0.25 0.2\"/>\n",
    "                <body name=\"imu2\" joint=\"frozen\" pos=\"0.5 0 -0.125\">\n",
    "                    <geom type=\"box\" mass=\"0.05\" dim=\"0.2 0.2 0.05\" color=\"red\"/>\n",
    "                </body>\n",
    "            </body>\n",
    "        </body>\n",
    "    </worldbody>\n",
    "</x_xy>\n",
    "\"\"\"\n",
    "sys = x_xy.io.load_sys_from_str(sys_str)"
   ]
  },
  {
   "cell_type": "code",
   "execution_count": null,
   "id": "bc628d01-215f-4cc9-bc8e-4fad9dfa5e90",
   "metadata": {},
   "outputs": [],
   "source": [
    "dustin_exp_xml_seg1 = r\"\"\"\n",
    "<x_xy model=\"dustin_exp\">\n",
    "    <options gravity=\"0 0 9.81\" dt=\"0.01\"/>\n",
    "    <defaults>\n",
    "        <geom color=\"white\"/>\n",
    "    </defaults>\n",
    "    <worldbody>\n",
    "        <body name=\"seg1\" joint=\"free\">\n",
    "            <geom type=\"box\" mass=\"10\" pos=\"-0.5 0 0\" dim=\"1 0.25 0.2\"/>\n",
    "            <body name=\"seg2\" joint=\"ry\">\n",
    "                <geom type=\"box\" mass=\"10\" pos=\"0.5 0 0\" dim=\"1 0.25 0.2\"/>\n",
    "                <body name=\"seg3\" joint=\"rz\" pos=\"0.2 0 0\" >\n",
    "                    <geom type=\"box\" mass=\"10\" pos=\"0.5 0 0\" dim=\"1 0.25 0.2\"/>\n",
    "                </body>\n",
    "            </body>\n",
    "        </body>\n",
    "    </worldbody>\n",
    "</x_xy>\n",
    "\"\"\"\n",
    "sys_inference = x_xy.io.load_sys_from_str(dustin_exp_xml_seg1)"
   ]
  },
  {
   "cell_type": "markdown",
   "id": "bf6c1048-cc0a-4334-8cdb-44692ecec611",
   "metadata": {},
   "source": [
    "## Generating the motion data\n",
    "\n",
    "Our motion data will be automatically generated using a `Generator`, which can be customised using an `MotionConfig`. The `Generator` will generate data for both `q`, that is the state of all the joint angles in the system, as well as `xs`, which describes the orientations of all the links in the system. To use this data for training our RNNo, we first have to bring it into the correct form using a `finalise_fn`."
   ]
  },
  {
   "cell_type": "code",
   "execution_count": null,
   "id": "c25ed77c-d67a-4618-9e55-f78e62c822ab",
   "metadata": {},
   "outputs": [],
   "source": [
    "def finalise_fn(key: jax.Array, q: jax.Array, xs: x_xy.Transform, sys: x_xy.System):\n",
    "    def xs_by_name(name: str):\n",
    "        return xs.take(sys.name_to_idx(name), axis=1)\n",
    "\n",
    "    key, *consume = jax.random.split(key, 3)\n",
    "\n",
    "    # the input X to our RNNo is the IMU data of segments 1 and 3\n",
    "    X = {\n",
    "        \"seg1\": x_xy.imu(xs_by_name(\"imu1\"), sys.gravity, sys.dt, consume[0], True),\n",
    "        \"seg3\": x_xy.imu(xs_by_name(\"imu2\"), sys.gravity, sys.dt, consume[1], True),\n",
    "    }\n",
    "\n",
    "    # seg2 has no IMU, but we still need to make an entry in our X\n",
    "    X[\"seg2\"] = tree_utils.tree_zeros_like(X[\"seg1\"])\n",
    "\n",
    "    # the output of the RNNo is the estimated relative poses of our segments\n",
    "    y = x_xy.algorithms.rel_pose(sys_scan=sys_inference, xs=xs, sys_xs=sys)\n",
    "\n",
    "    return X, y\n",
    "\n",
    "config = x_xy.algorithms.MotionConfig(dpos_max=0.3, ang0_min=0.0, ang0_max=0.0)\n",
    "\n",
    "gen = x_xy.build_generator(sys, config, finalize_fn=finalise_fn)\n",
    "gen = x_xy.batch_generator(gen, BATCHSIZE)"
   ]
  },
  {
   "cell_type": "markdown",
   "id": "5cf763a3-14b8-4a60-9d97-e907cf63f857",
   "metadata": {},
   "source": [
    "## Custom loss function\n",
    "\n",
    "To customise the loss function of the RNNo, we transform the error values before they are averaged. The input to our loss function will be both $q$, the real joint state, as well as $\\hat{q}$, the joint space estimated by our RNNo. `q` and `q_hat` will both be `jax.Array`s of shape `(T_tbp, 4)`, where the first axis is slice over time (of our TBPTT length) and the second axis are the 4 components of a quaternion.\n",
    "\n",
    "In this notebook we want to change the relative weightings of the errors at different times using a softmax function in order to put more weight on larger errors. First we convert the errors from quaterions to angles. Then we scale each error angle by a factor, calculated from a softmax over the angles. The calculation of the factors includes a call to `jax.lax.stop_gradient` to make it so our gradients are only from the errors themselves, not the factors as well."
   ]
  },
  {
   "cell_type": "code",
   "execution_count": null,
   "id": "83d9759d-c222-49bf-8c51-fe7309042c8d",
   "metadata": {},
   "outputs": [],
   "source": [
    "def make_loss_fn(beta):\n",
    "    def metric_fn(q, q_hat):\n",
    "        return x_xy.maths.angle_error(q, q_hat) ** 2\n",
    "\n",
    "    if beta is not None:\n",
    "\n",
    "        def loss_fn(q, q_hat):\n",
    "            # q.shape == q_hat.shape == (1000, 4)\n",
    "            angles = metric_fn(q, q_hat)\n",
    "\n",
    "            factors = angles.shape[-1] * softmax(\n",
    "                beta * jax.lax.stop_gradient(angles), axis=-1\n",
    "            )\n",
    "\n",
    "            errors = factors * angles\n",
    "\n",
    "            return errors\n",
    "\n",
    "    else:\n",
    "        loss_fn = metric_fn\n",
    "\n",
    "    return loss_fn"
   ]
  },
  {
   "cell_type": "markdown",
   "id": "f3ba0287-75be-4c77-824a-cf4433323504",
   "metadata": {},
   "source": [
    "`beta` determines the strength of our weighting: the larger beta, the more relative weight we put on the larger errors, while `beta = 0.0` makes the scaling factors uniform one and gives us back our unweighted errors. Alternatively `beta = None` bypasses the scaling altogether. "
   ]
  },
  {
   "cell_type": "code",
   "execution_count": null,
   "id": "db8a50d3-8d5a-4cfe-9cea-18ff73b856e9",
   "metadata": {},
   "outputs": [],
   "source": [
    "beta = 1.0"
   ]
  },
  {
   "cell_type": "code",
   "execution_count": null,
   "id": "203bcd9a-5a61-4366-abc4-57fee7f6ae41",
   "metadata": {},
   "outputs": [],
   "source": [
    "rnno = ml.make_rnno(sys_inference)\n",
    "\n",
    "loss_fn = make_loss_fn(beta)\n",
    "\n",
    "save_params = ml.callbacks.SaveParamsTrainingLoopCallback(\n",
    "    \"parameters.pickle\", upload=False\n",
    ")\n",
    "\n",
    "ml.train(gen, NUM_TRAINING_EPISODES, rnno, callbacks=[save_params], loss_fn=loss_fn)"
   ]
  },
  {
   "cell_type": "markdown",
   "id": "a39afb42",
   "metadata": {},
   "source": [
    "To visualise our network, we can render it using mediapy. First we generate some motion data."
   ]
  },
  {
   "cell_type": "code",
   "execution_count": null,
   "id": "1ba6919d-e906-4dd7-9a3e-386de3035841",
   "metadata": {},
   "outputs": [],
   "source": [
    "gen = x_xy.build_generator(sys, config)\n",
    "\n",
    "key = jax.random.PRNGKey(1)\n",
    "\n",
    "q, xs = gen(key)"
   ]
  },
  {
   "cell_type": "markdown",
   "id": "7447b4c8",
   "metadata": {},
   "source": [
    "We need to again bring the motion data in the correct form for our RNNo and can then run inference of the generated data."
   ]
  },
  {
   "cell_type": "code",
   "execution_count": null,
   "id": "a4e41d59",
   "metadata": {},
   "outputs": [],
   "source": [
    "params = ml.load(\"parameters.pickle\")\n",
    "\n",
    "X, y = finalise_fn(key, q, xs, sys)\n",
    "\n",
    "X = tree_utils.add_batch_dim(X)\n",
    "\n",
    "_, state = rnno.init(key, X)\n",
    "\n",
    "state = tree_utils.add_batch_dim(state)\n",
    "\n",
    "y_hat, _ = rnno.apply(params, state, X)\n",
    "y_hat = tree_utils.to_2d_if_3d(y_hat, strict=True)"
   ]
  },
  {
   "cell_type": "markdown",
   "metadata": {},
   "source": [
    "First we want to plot the angle error for both segment 2 and segment 3 over time."
   ]
  },
  {
   "cell_type": "code",
   "execution_count": null,
   "metadata": {},
   "outputs": [],
   "source": [
    "y[\"seg2\"][:10]"
   ]
  },
  {
   "cell_type": "code",
   "execution_count": null,
   "metadata": {},
   "outputs": [],
   "source": [
    "y_hat[\"seg2\"]"
   ]
  },
  {
   "cell_type": "code",
   "execution_count": null,
   "metadata": {},
   "outputs": [],
   "source": [
    "\n",
    "fig, ax = plt.subplots()\n",
    "\n",
    "angle_error2 = jnp.rad2deg(x_xy.maths.angle_error(y[\"seg2\"], y_hat[\"seg2\"]))\n",
    "angle_error3 = jnp.rad2deg(x_xy.maths.angle_error(y[\"seg3\"], y_hat[\"seg3\"]))\n",
    "\n",
    "T = jnp.arange(angle_error2.size) * sys_inference.dt\n",
    "\n",
    "ax.plot(T, angle_error2, label=\"seg2\")\n",
    "ax.plot(T, angle_error3, label=\"seg3\")\n",
    "\n",
    "ax.set_xlabel(\"time [s]\")\n",
    "ax.set_ylabel(\"abs. angle error [deg]\")\n",
    "\n",
    "ax.legend()\n",
    "\n",
    "plt.show()"
   ]
  },
  {
   "cell_type": "markdown",
   "id": "7e786a30",
   "metadata": {},
   "source": [
    "Next we have to create an `xs_hat` of the estimated orientations, so that we can render them."
   ]
  },
  {
   "cell_type": "code",
   "execution_count": null,
   "id": "45452411",
   "metadata": {},
   "outputs": [],
   "source": [
    "# Extract translations from data-generating system...\n",
    "translations, rotations = sim2real.unzip_xs(\n",
    "    sys_inference, sim2real.match_xs(sys_inference, xs, sys)\n",
    ")\n",
    "\n",
    "y_hat_inv = jax.tree_map(lambda quat: x_xy.maths.quat_inv(quat), y_hat) \n",
    "\n",
    "# ... swap rotations with predicted ones...\n",
    "rotations_hat = [] \n",
    "for i, name in enumerate(sys_inference.link_names):\n",
    "    if name in y_hat_inv:\n",
    "        rotations_name = x_xy.Transform.create(rot=y_hat_inv[name])\n",
    "    else:\n",
    "        rotations_name = rotations.take(i, axis=1)\n",
    "    rotations_hat.append(rotations_name)\n",
    "\n",
    "# ... and plug the positions and rotations back together.\n",
    "rotations_hat = rotations_hat[0].batch(*rotations_hat[1:]).transpose((1, 0, 2))\n",
    "xs_hat = sim2real.zip_xs(sys_inference, translations, rotations_hat)\n",
    "\n",
    "# Create combined system that shall be rendered and its transforms\n",
    "sys_render = sys_composer.inject_system(sys, sys_inference.add_prefix_suffix(suffix=\"_hat\"))\n",
    "xs_render = x_xy.Transform.concatenate(xs, xs_hat, axis=1)"
   ]
  },
  {
   "cell_type": "markdown",
   "metadata": {},
   "source": [
    "Now we can render both the predicted system (in white) as well as the real system (in orange)."
   ]
  },
  {
   "cell_type": "code",
   "execution_count": null,
   "id": "cc3ace89",
   "metadata": {},
   "outputs": [],
   "source": [
    "xs_list = [xs_render[i] for i in range(xs_render.shape())]\n",
    "\n",
    "frames = x_xy.render(sys_render, xs_list, camera=\"targetfar\")\n",
    "mediapy.show_video([frame[..., :3] for frame in frames], fps=int(1 / sys.dt))\n"
   ]
  },
  {
   "cell_type": "code",
   "execution_count": null,
   "metadata": {},
   "outputs": [],
   "source": []
  }
 ],
 "metadata": {
  "kernelspec": {
   "display_name": "Python 3 (ipykernel)",
   "language": "python",
   "name": "python3"
  },
  "language_info": {
   "codemirror_mode": {
    "name": "ipython",
    "version": 3
   },
   "file_extension": ".py",
   "mimetype": "text/x-python",
   "name": "python",
   "nbconvert_exporter": "python",
   "pygments_lexer": "ipython3",
   "version": "3.10.13"
  }
 },
 "nbformat": 4,
 "nbformat_minor": 5
}
